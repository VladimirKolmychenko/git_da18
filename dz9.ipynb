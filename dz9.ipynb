{
 "cells": [
  {
   "cell_type": "code",
   "execution_count": 1,
   "metadata": {},
   "outputs": [],
   "source": [
    "import re"
   ]
  },
  {
   "cell_type": "code",
   "execution_count": 44,
   "metadata": {},
   "outputs": [],
   "source": [
    "\n",
    "def car_num(reg): \n",
    "    import re\n",
    "    result = re.findall(r'([АВДЕИКМНОРСТХ]{1}\\d{3}[АВДЕИКМНОРСТХ]{2})(\\d{2,3})', reg)\n",
    "    if len(result) > 0:\n",
    "        print('Номер', result[0][0],' валиден. Регион: ',  result[0][1])\n",
    "    else:\n",
    "        print('Номер не валиден')\n",
    "    \n"
   ]
  },
  {
   "cell_type": "code",
   "execution_count": 47,
   "metadata": {},
   "outputs": [
    {
     "name": "stdout",
     "output_type": "stream",
     "text": [
      "Номер не валиден\n"
     ]
    }
   ],
   "source": [
    "reg = 'Б791ВН90'\n",
    "car_num(reg) "
   ]
  },
  {
   "cell_type": "code",
   "execution_count": 51,
   "metadata": {},
   "outputs": [
    {
     "name": "stdout",
     "output_type": "stream",
     "text": [
      "Напишите функцию, которая будет удалять все последовательные повторы слов из заданной строки при помощи регулярных выражений.\n"
     ]
    }
   ],
   "source": [
    "def replay(str):\n",
    "   import re\n",
    "   result =  re.sub(r'\\b([^\\W\\d_]+)(\\s+\\1)+\\b',r'\\1',str)\n",
    "   return  result\n",
    "\n",
    "some_string = 'Напишите функцию функцию, которая будет будет будет будет удалять все все все все последовательные повторы слов из из из из заданной строки строки при помощи регулярных выражений.'\n",
    "print(replay(some_string))"
   ]
  },
  {
   "cell_type": "code",
   "execution_count": 67,
   "metadata": {},
   "outputs": [],
   "source": [
    "\n",
    "def acronym(some_words):\n",
    "    import re\n",
    "    result_str = re.findall(r'\\b([^\\W\\d_]+)',some_words)\n",
    "    result = ''\n",
    "    i = 0\n",
    "    while i < len(result_str):\n",
    "        result += result_str[i][0].upper()\n",
    "        i +=1\n",
    "    return(result)"
   ]
  },
  {
   "cell_type": "code",
   "execution_count": 68,
   "metadata": {},
   "outputs": [
    {
     "data": {
      "text/plain": [
       "'ИТ'"
      ]
     },
     "execution_count": 68,
     "metadata": {},
     "output_type": "execute_result"
    }
   ],
   "source": [
    "some_words = 'Информационные технологии'\n",
    "acronym(some_words)\n"
   ]
  },
  {
   "cell_type": "code",
   "execution_count": 69,
   "metadata": {},
   "outputs": [
    {
     "data": {
      "text/plain": [
       "'NFC'"
      ]
     },
     "execution_count": 69,
     "metadata": {},
     "output_type": "execute_result"
    }
   ],
   "source": [
    "some_words = 'Near Field Communication'\n",
    "acronym(some_words)"
   ]
  },
  {
   "cell_type": "code",
   "execution_count": 87,
   "metadata": {
    "scrolled": true
   },
   "outputs": [],
   "source": [
    "\n",
    "def zone_count(emails):\n",
    "    import re\n",
    "    str_ = re.findall(r'[@]{1}\\w+[.]{1}\\w+',str(emails))\n",
    "    zone = set(str_)\n",
    "    for i in zone:\n",
    "        count = str_.count(i)\n",
    "        print(i[1:],  count)"
   ]
  },
  {
   "cell_type": "code",
   "execution_count": 88,
   "metadata": {},
   "outputs": [
    {
     "name": "stdout",
     "output_type": "stream",
     "text": [
      "mail.ru 1\n",
      "test.in 1\n",
      "gmail.com 2\n",
      "ya.ru 2\n"
     ]
    }
   ],
   "source": [
    "emails = ['test@gmail.com', 'xyz@test.in', 'test@ya.ru', 'xyz@mail.ru', 'xyz@ya.ru', 'xyz@gmail.com']\n",
    "zone_count(emails)"
   ]
  }
 ],
 "metadata": {
  "kernelspec": {
   "display_name": "Python 3",
   "language": "python",
   "name": "python3"
  },
  "language_info": {
   "codemirror_mode": {
    "name": "ipython",
    "version": 3
   },
   "file_extension": ".py",
   "mimetype": "text/x-python",
   "name": "python",
   "nbconvert_exporter": "python",
   "pygments_lexer": "ipython3",
   "version": "3.8.3"
  }
 },
 "nbformat": 4,
 "nbformat_minor": 4
}
