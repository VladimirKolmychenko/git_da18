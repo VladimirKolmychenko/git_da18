{
 "cells": [
  {
   "cell_type": "code",
   "execution_count": 2,
   "metadata": {},
   "outputs": [],
   "source": [
    "import numpy as np"
   ]
  },
  {
   "cell_type": "code",
   "execution_count": 5,
   "metadata": {},
   "outputs": [
    {
     "name": "stdout",
     "output_type": "stream",
     "text": [
      "[9 8 7 6 5 4 3 2 1 0]\n"
     ]
    }
   ],
   "source": [
    "n = 10\n",
    "a = np.arange(0,n)\n",
    "for i in a:\n",
    "    a[i] = n- i -1\n",
    "print(a)"
   ]
  },
  {
   "cell_type": "code",
   "execution_count": 8,
   "metadata": {},
   "outputs": [
    {
     "name": "stdout",
     "output_type": "stream",
     "text": [
      "[[6. 0. 0. 0. 0. 0. 0.]\n",
      " [0. 5. 0. 0. 0. 0. 0.]\n",
      " [0. 0. 4. 0. 0. 0. 0.]\n",
      " [0. 0. 0. 3. 0. 0. 0.]\n",
      " [0. 0. 0. 0. 2. 0. 0.]\n",
      " [0. 0. 0. 0. 0. 1. 0.]\n",
      " [0. 0. 0. 0. 0. 0. 0.]] \n",
      " sum_diag =  21.0\n"
     ]
    }
   ],
   "source": [
    "n = 7\n",
    "a = np.eye(n)\n",
    "sum_diag = 0\n",
    "i = 0\n",
    "while i < n:\n",
    "    a[i,i] = n- i -1\n",
    "    sum_diag += a[i,i] \n",
    "    i += 1\n",
    "print(a,'\\n','sum_diag = ',sum_diag )"
   ]
  },
  {
   "cell_type": "code",
   "execution_count": 9,
   "metadata": {},
   "outputs": [
    {
     "data": {
      "text/plain": [
       "array([ 0.46666667,  3.84444444, -5.55555556])"
      ]
     },
     "execution_count": 9,
     "metadata": {},
     "output_type": "execute_result"
    }
   ],
   "source": [
    "from numpy import linalg\n",
    "a = np.array([[4,2,1], [1,3,0],[0,5,4]])\n",
    "b = np.array([4,12,-3])\n",
    "linalg.solve(a, b)"
   ]
  },
  {
   "cell_type": "code",
   "execution_count": 19,
   "metadata": {},
   "outputs": [
    {
     "name": "stdout",
     "output_type": "stream",
     "text": [
      "[0.19999999999999996, 0.8451542547285165, 0.3999999999999999, 0.7905694150420948, 0.3999999999999999, 0.0, 0.0, 0.9486832980505138, 0.0, 0.0]\n",
      "Самые похожие пользователи:\n",
      "6   [0 0 0 0 0 5]\n",
      "7   [1 0 0 0 0 0]\n",
      "9   [0 0 0 1 1 3]\n",
      "10   [1 0 0 2 1 4]\n"
     ]
    }
   ],
   "source": [
    "def cosine( a, b ):\n",
    "    \"\"\"\n",
    "    Подсчет косинуса угла между векторами a, b по их координатам\n",
    "    \"\"\"\n",
    "    \n",
    "    # длины векторов\n",
    "    aLength = np.linalg.norm( a )\n",
    "    bLength = np.linalg.norm( b )\n",
    "    \n",
    "    return np.dot( a, b ) / ( aLength * bLength )\n",
    "\n",
    "users_stats = np.array(\n",
    "    [\n",
    "        [2, 1, 0, 0, 0, 0],\n",
    "        [1, 1, 2, 1, 0, 0],\n",
    "        [2, 0, 1, 0, 0, 0],\n",
    "        [1, 1, 2, 1, 0, 1],\n",
    "        [0, 0, 1, 2, 0, 0],\n",
    "        [0, 0, 0, 0, 0, 5],\n",
    "        [1, 0, 0, 0, 0, 0],\n",
    "        [0, 1, 1, 0, 0, 0],\n",
    "        [0, 0, 0, 1, 1, 3],\n",
    "        [1, 0, 0, 2, 1, 4]\n",
    "    ], \n",
    "    np.int32\n",
    ")\n",
    "next_user_stats = np.array([0, 1, 2, 0, 0, 0])\n",
    "\n",
    "resalt = []\n",
    "i = 0\n",
    "while i < len(users_stats):\n",
    "    cos =  cosine(users_stats[i],next_user_stats )\n",
    "    resalt.append(cos)\n",
    "    i += 1\n",
    "print(resalt)\n",
    "min_res = min(resalt)\n",
    "i = 0\n",
    "print('Самые похожие пользователи:')\n",
    "while i < len(resalt):\n",
    "    if resalt[i] == min_res:\n",
    "        print(i+1,' ',users_stats[i]  )\n",
    "    i +=1"
   ]
  }
 ],
 "metadata": {
  "kernelspec": {
   "display_name": "Python 3",
   "language": "python",
   "name": "python3"
  },
  "language_info": {
   "codemirror_mode": {
    "name": "ipython",
    "version": 3
   },
   "file_extension": ".py",
   "mimetype": "text/x-python",
   "name": "python",
   "nbconvert_exporter": "python",
   "pygments_lexer": "ipython3",
   "version": "3.8.3"
  }
 },
 "nbformat": 4,
 "nbformat_minor": 4
}
