{
 "cells": [
  {
   "cell_type": "code",
   "execution_count": 7,
   "metadata": {},
   "outputs": [
    {
     "data": {
      "text/plain": [
       "datetime.datetime(2002, 10, 2, 0, 0)"
      ]
     },
     "execution_count": 7,
     "metadata": {},
     "output_type": "execute_result"
    }
   ],
   "source": [
    "The_Moscow_Times = 'Wednesday, October 2, 2002'\n",
    "The_Guardian = 'Friday, 11.10.13'\n",
    "Daily_News = 'Thursday, 18 August 1977'\n",
    "from datetime import datetime\n",
    "datetime.strptime(The_Moscow_Times, '%A, %B %d, %Y')\n",
    "\n"
   ]
  },
  {
   "cell_type": "code",
   "execution_count": 4,
   "metadata": {},
   "outputs": [
    {
     "data": {
      "text/plain": [
       "datetime.datetime(2013, 10, 11, 0, 0)"
      ]
     },
     "execution_count": 4,
     "metadata": {},
     "output_type": "execute_result"
    }
   ],
   "source": [
    "datetime.strptime(The_Guardian, '%A, %d.%m.%y')"
   ]
  },
  {
   "cell_type": "code",
   "execution_count": 6,
   "metadata": {},
   "outputs": [
    {
     "data": {
      "text/plain": [
       "datetime.datetime(1977, 8, 18, 0, 0)"
      ]
     },
     "execution_count": 6,
     "metadata": {},
     "output_type": "execute_result"
    }
   ],
   "source": [
    "datetime.strptime(Daily_News, '%A, %d %B %Y')"
   ]
  },
  {
   "cell_type": "code",
   "execution_count": 21,
   "metadata": {},
   "outputs": [
    {
     "name": "stdout",
     "output_type": "stream",
     "text": [
      "True 2018 04 02\n",
      "False 2018 02 29\n",
      "False 2018 19 02\n"
     ]
    }
   ],
   "source": [
    "from datetime import date\n",
    "def datef_t(y, m, d):\n",
    "    try:\n",
    "        date(y, m, d)\n",
    "        return True\n",
    "    except:\n",
    "        return False\n",
    "\n",
    "stream = ['2018-04-02', '2018-02-29', '2018-19-02']    \n",
    "for i in stream:\n",
    "    print(datef_t(int(i[0:4]),int(i[5:7]),int(i[8:10])),i[0:4],i[5:7],i[8:10])\n",
    "\n"
   ]
  },
  {
   "cell_type": "code",
   "execution_count": 50,
   "metadata": {},
   "outputs": [
    {
     "name": "stdout",
     "output_type": "stream",
     "text": [
      "Введите начальную дату: 2018-04-02\n",
      "Введите конечную дату: 2018-04-10\n"
     ]
    },
    {
     "data": {
      "text/plain": [
       "['2018-04-02',\n",
       " '2018-04-03',\n",
       " '2018-04-04',\n",
       " '2018-04-05',\n",
       " '2018-04-06',\n",
       " '2018-04-07',\n",
       " '2018-04-08',\n",
       " '2018-04-09',\n",
       " '2018-04-10']"
      ]
     },
     "execution_count": 50,
     "metadata": {},
     "output_type": "execute_result"
    }
   ],
   "source": [
    "def date_range(start_date,end_date ):\n",
    "     from datetime import timedelta\n",
    "     resalt = []        \n",
    "     if datef_t(int(start_date[0:4]),int(start_date[5:7]),int(start_date[8:10])) and datef_t(int(end_date[0:4]),int(end_date[5:7]),int(end_date[8:10])) and (start_date <= end_date):\n",
    "            j = 0 \n",
    "            i = start_date\n",
    "            while (datetime.strptime(start_date,'%Y-%m-%d') + timedelta(days = j)) <= datetime.strptime(end_date,'%Y-%m-%d'):\n",
    "                next_ = datetime.strftime (datetime.strptime(start_date,'%Y-%m-%d') + timedelta(days = j),'%Y-%m-%d')\n",
    "                resalt.append(next_)\n",
    "                j += 1\n",
    "                \n",
    "     return(resalt)\n",
    "\n",
    "start = input('Введите начальную дату: ')  \n",
    "finish = input('Введите конечную дату: ')\n",
    "date_range(start,finish)        "
   ]
  }
 ],
 "metadata": {
  "kernelspec": {
   "display_name": "Python 3",
   "language": "python",
   "name": "python3"
  },
  "language_info": {
   "codemirror_mode": {
    "name": "ipython",
    "version": 3
   },
   "file_extension": ".py",
   "mimetype": "text/x-python",
   "name": "python",
   "nbconvert_exporter": "python",
   "pygments_lexer": "ipython3",
   "version": "3.8.3"
  }
 },
 "nbformat": 4,
 "nbformat_minor": 4
}
