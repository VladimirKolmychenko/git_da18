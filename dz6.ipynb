{
 "cells": [
  {
   "cell_type": "code",
   "execution_count": 1,
   "metadata": {},
   "outputs": [
    {
     "name": "stdout",
     "output_type": "stream",
     "text": [
      "Обработка данных завершена\n"
     ]
    }
   ],
   "source": [
    "f = open('purchase_log.txt ','r', encoding='utf-8')\n",
    "purchase = f.readlines()\n",
    "purchases = {}\n",
    "import json\n",
    "i = 0\n",
    "for line in purchase:\n",
    "    if i == 0:\n",
    "        i = 1       \n",
    "    else:\n",
    "        purchases [json.loads(line)['user_id']] = json.loads(line)['category']\n",
    "f.close()\n",
    "f2 = open('visit_log.csv','r') \n",
    "f3 = open('funnel.csv','w')\n",
    "f3.write(\"'user_id','source','category'\\n\")\n",
    "i = 0\n",
    "for line in f2:\n",
    "     i+=1\n",
    "     line = line.strip().split(',')   \n",
    "     d = line[0]\n",
    "     if (i > 1) and (line[1]  is not None) and (purchases.get(d) is not None ):\n",
    "        str_ = line[0] + ',' + line[1] + ',' + purchases.get(d) + '\\n'\n",
    "        f3.write(str_) \n",
    "f3.close()\n",
    "f2.close()\n",
    "print('Обработка данных завершена')       "
   ]
  },
  {
   "cell_type": "code",
   "execution_count": 35,
   "metadata": {},
   "outputs": [
    {
     "data": {
      "text/plain": [
       "'6450655ae8,other\\n'"
      ]
     },
     "execution_count": 35,
     "metadata": {},
     "output_type": "execute_result"
    }
   ],
   "source": [
    "\n",
    "\n"
   ]
  }
 ],
 "metadata": {
  "kernelspec": {
   "display_name": "Python 3",
   "language": "python",
   "name": "python3"
  },
  "language_info": {
   "codemirror_mode": {
    "name": "ipython",
    "version": 3
   },
   "file_extension": ".py",
   "mimetype": "text/x-python",
   "name": "python",
   "nbconvert_exporter": "python",
   "pygments_lexer": "ipython3",
   "version": "3.8.3"
  }
 },
 "nbformat": 4,
 "nbformat_minor": 4
}
