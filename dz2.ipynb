{
 "cells": [
  {
   "cell_type": "code",
   "execution_count": 4,
   "metadata": {},
   "outputs": [
    {
     "name": "stdout",
     "output_type": "stream",
     "text": [
      "Фраза1 длиннее фразы2\n"
     ]
    }
   ],
   "source": [
    "phrase_1='На сколько проще было бы писать программы, если бы не заказчики'\n",
    "phrase_2='640Кб должно хватить для любых задач. Билл Гейтс(по легенде)'\n",
    "if len(phrase_1)>len(phrase_2):\n",
    "    print('Фраза1 длиннее фразы2')\n",
    "elif len(phrase_1)<len(phrase_2):\n",
    "        print('Фраза2 длиннее фразы1')\n",
    "else:\n",
    "        print('Фразы равной длины')"
   ]
  },
  {
   "cell_type": "code",
   "execution_count": 6,
   "metadata": {},
   "outputs": [
    {
     "name": "stdout",
     "output_type": "stream",
     "text": [
      "Фраза2 длиннее фразы1\n"
     ]
    }
   ],
   "source": [
    "phrase_2='На сколько проще было бы писать программы, если бы не заказчики'\n",
    "phrase_1='640Кб должно хватить для любых задач. Билл Гейтс(по легенде)'\n",
    "if len(phrase_1)>len(phrase_2):\n",
    "    print('Фраза1 длиннее фразы2')\n",
    "elif len(phrase_1)<len(phrase_2):\n",
    "        print('Фраза2 длиннее фразы1')\n",
    "else:\n",
    "        print('Фразы равной длины')"
   ]
  },
  {
   "cell_type": "code",
   "execution_count": 7,
   "metadata": {},
   "outputs": [
    {
     "name": "stdout",
     "output_type": "stream",
     "text": [
      "Фразы равной длины\n"
     ]
    }
   ],
   "source": [
    "phrase_2='На сколько проще было бы писать программы, если бы не заказчики'\n",
    "phrase_1='На сколько проще было бы писать программы, если бы не заказчики'\n",
    "if len(phrase_1)>len(phrase_2):\n",
    "    print('Фраза1 длиннее фразы2')\n",
    "elif len(phrase_1)<len(phrase_2):\n",
    "        print('Фраза2 длиннее фразы1')\n",
    "else:\n",
    "        print('Фразы равной длины')"
   ]
  },
  {
   "cell_type": "code",
   "execution_count": 8,
   "metadata": {},
   "outputs": [
    {
     "name": "stdout",
     "output_type": "stream",
     "text": [
      "Високосный год\n"
     ]
    }
   ],
   "source": [
    "year=2000\n",
    "if year%4==0:\n",
    "    print('Високосный год')\n",
    "else:\n",
    "    print('Обычный год')\n"
   ]
  },
  {
   "cell_type": "code",
   "execution_count": 9,
   "metadata": {},
   "outputs": [
    {
     "name": "stdout",
     "output_type": "stream",
     "text": [
      "Обычный год\n"
     ]
    }
   ],
   "source": [
    "year=2019\n",
    "if year%4==0:\n",
    "    print('Високосный год')\n",
    "else:\n",
    "    print('Обычный год')"
   ]
  },
  {
   "cell_type": "code",
   "execution_count": 18,
   "metadata": {},
   "outputs": [
    {
     "name": "stdout",
     "output_type": "stream",
     "text": [
      "Введите дату рождения  22\n",
      "Введите название месяца рождения  тер\n",
      "Неправильный месяц\n"
     ]
    }
   ],
   "source": [
    "day=int(input('Введите дату рождения  '))\n",
    "month=input('Введите название месяца рождения  ')\n",
    "if 1<=day<=31 :\n",
    "    if month=='январь':\n",
    "        if 1<=day<=20:\n",
    "            print('Ваш знак зодиака КОЗЕРОГ')\n",
    "        else:\n",
    "            print('Ваш знак зодиака ВОДОЛЕЙ')\n",
    "            \n",
    "    elif month=='февраль':\n",
    "        if 1<=day<=19:\n",
    "            print('Ваш знак зодиака ВОДОЛЕЙ')\n",
    "        else:\n",
    "            print('Ваш знак зодиака РЫБЫ')\n",
    "    \n",
    "    elif month=='март':\n",
    "        if 1<=day<=20:\n",
    "            print('Ваш знак зодиака РЫБЫ')\n",
    "        else:\n",
    "            print('Ваш знак зодиака ОВЕН')    \n",
    "    \n",
    "    elif month=='апрель':\n",
    "        if 1<=day<=19:\n",
    "            print('Ваш знак зодиака ОВЕН')\n",
    "        else:\n",
    "            print('Ваш знак зодиака ТЕЛЕЦ')\n",
    "    elif month=='май':\n",
    "        if 1<=day<=20:\n",
    "            print('Ваш знак зодиака ТЕЛЕЦ')\n",
    "        else:\n",
    "            print('Ваш знак зодиака БЛИЗНЕЦЫ')\n",
    "    elif month=='июнь':\n",
    "        if 1<=day<=20:\n",
    "            print('Ваш знак зодиака БЛИЗНЕЦЫ')\n",
    "        else:\n",
    "            print('Ваш знак зодиака РАК')\n",
    "    elif month=='июль':\n",
    "        if 1<=day<=22:\n",
    "            print('Ваш знак зодиака РАК')\n",
    "        else:\n",
    "            print('Ваш знак зодиака ЛЕВ')\n",
    "    elif month=='август':\n",
    "        if 1<=day<=22:\n",
    "            print('Ваш знак зодиака ЛЕВ')\n",
    "        else:\n",
    "            print('Ваш знак зодиака ДЕВА')\n",
    "    elif month=='сентябрь':\n",
    "        if 1<=day<=22:\n",
    "            print('Ваш знак зодиака ДЕВА')\n",
    "        else:\n",
    "            print('Ваш знак зодиака ВЕСЫ')\n",
    "    elif month=='октябрь':\n",
    "        if 1<=day<=23:\n",
    "            print('Ваш знак зодиака ВЕСЫ')\n",
    "        else:\n",
    "            print('Ваш знак зодиака СКОРПИОН')\n",
    "    elif month=='ноябрь':\n",
    "        if 1<=day<=22:\n",
    "            print('Ваш знак зодиака СКОРПИОН')\n",
    "        else:\n",
    "            print('Ваш знак зодиака СТРЕЛЕЦ')\n",
    "    elif month=='декабрь':\n",
    "        if 1<=day<=21:\n",
    "            print('Ваш знак зодиака СТРЕЛЕЦ')\n",
    "        else:\n",
    "            print('Ваш знак зодиака КОЗЕРОГ')\n",
    "    else:\n",
    "        print('Неправильный месяц')\n",
    "else:\n",
    "   print('Неправильная дата') "
   ]
  },
  {
   "cell_type": "code",
   "execution_count": 22,
   "metadata": {},
   "outputs": [
    {
     "name": "stdout",
     "output_type": "stream",
     "text": [
      " Стандартная коробка №3\n"
     ]
    }
   ],
   "source": [
    "width=10\n",
    "lenght=50\n",
    "height=5\n",
    "if width<15 and lenght<15 and height<15:\n",
    "    print(' Коробка №1')\n",
    "elif  15<width<50 or 15<lenght<50 or 15<height<50:\n",
    "    print(' Коробка №2')\n",
    "elif lenght>200:\n",
    "    print(' Упаковка для лыж')\n",
    "else:\n",
    "    print(' Стандартная коробка №3')"
   ]
  }
 ],
 "metadata": {
  "kernelspec": {
   "display_name": "Python 3",
   "language": "python",
   "name": "python3"
  },
  "language_info": {
   "codemirror_mode": {
    "name": "ipython",
    "version": 3
   },
   "file_extension": ".py",
   "mimetype": "text/x-python",
   "name": "python",
   "nbconvert_exporter": "python",
   "pygments_lexer": "ipython3",
   "version": "3.8.3"
  }
 },
 "nbformat": 4,
 "nbformat_minor": 4
}
