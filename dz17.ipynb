{
 "cells": [
  {
   "cell_type": "code",
   "execution_count": 1,
   "metadata": {},
   "outputs": [],
   "source": [
    "import matplotlib.pyplot as plt\n",
    "import pandas as pd"
   ]
  },
  {
   "cell_type": "code",
   "execution_count": 7,
   "metadata": {},
   "outputs": [
    {
     "data": {
      "text/html": [
       "<div>\n",
       "<style scoped>\n",
       "    .dataframe tbody tr th:only-of-type {\n",
       "        vertical-align: middle;\n",
       "    }\n",
       "\n",
       "    .dataframe tbody tr th {\n",
       "        vertical-align: top;\n",
       "    }\n",
       "\n",
       "    .dataframe thead th {\n",
       "        text-align: right;\n",
       "    }\n",
       "</style>\n",
       "<table border=\"1\" class=\"dataframe\">\n",
       "  <thead>\n",
       "    <tr style=\"text-align: right;\">\n",
       "      <th></th>\n",
       "      <th>surgery</th>\n",
       "      <th>Age</th>\n",
       "      <th>Hospital_Number</th>\n",
       "      <th>rectal_temperature</th>\n",
       "      <th>pulse</th>\n",
       "      <th>capillary_refill_time</th>\n",
       "      <th>packed_cell_volume</th>\n",
       "      <th>outcome</th>\n",
       "    </tr>\n",
       "  </thead>\n",
       "  <tbody>\n",
       "    <tr>\n",
       "      <th>0</th>\n",
       "      <td>2.0</td>\n",
       "      <td>1</td>\n",
       "      <td>530334</td>\n",
       "      <td>38.300000</td>\n",
       "      <td>40.000000</td>\n",
       "      <td>1.0</td>\n",
       "      <td>33.000000</td>\n",
       "      <td>1.0</td>\n",
       "    </tr>\n",
       "    <tr>\n",
       "      <th>1</th>\n",
       "      <td>2.0</td>\n",
       "      <td>1</td>\n",
       "      <td>528355</td>\n",
       "      <td>38.190789</td>\n",
       "      <td>63.421687</td>\n",
       "      <td>1.0</td>\n",
       "      <td>42.727273</td>\n",
       "      <td>1.0</td>\n",
       "    </tr>\n",
       "    <tr>\n",
       "      <th>2</th>\n",
       "      <td>1.0</td>\n",
       "      <td>1</td>\n",
       "      <td>526802</td>\n",
       "      <td>37.900000</td>\n",
       "      <td>48.000000</td>\n",
       "      <td>1.0</td>\n",
       "      <td>37.000000</td>\n",
       "      <td>1.0</td>\n",
       "    </tr>\n",
       "    <tr>\n",
       "      <th>3</th>\n",
       "      <td>2.0</td>\n",
       "      <td>9</td>\n",
       "      <td>5299629</td>\n",
       "      <td>38.300000</td>\n",
       "      <td>90.000000</td>\n",
       "      <td>1.0</td>\n",
       "      <td>40.000000</td>\n",
       "      <td>1.0</td>\n",
       "    </tr>\n",
       "    <tr>\n",
       "      <th>4</th>\n",
       "      <td>1.0</td>\n",
       "      <td>1</td>\n",
       "      <td>528548</td>\n",
       "      <td>38.100000</td>\n",
       "      <td>66.000000</td>\n",
       "      <td>1.0</td>\n",
       "      <td>44.000000</td>\n",
       "      <td>1.0</td>\n",
       "    </tr>\n",
       "  </tbody>\n",
       "</table>\n",
       "</div>"
      ],
      "text/plain": [
       "   surgery  Age  Hospital_Number  rectal_temperature      pulse  \\\n",
       "0      2.0    1           530334           38.300000  40.000000   \n",
       "1      2.0    1           528355           38.190789  63.421687   \n",
       "2      1.0    1           526802           37.900000  48.000000   \n",
       "3      2.0    9          5299629           38.300000  90.000000   \n",
       "4      1.0    1           528548           38.100000  66.000000   \n",
       "\n",
       "   capillary_refill_time  packed_cell_volume  outcome  \n",
       "0                    1.0           33.000000      1.0  \n",
       "1                    1.0           42.727273      1.0  \n",
       "2                    1.0           37.000000      1.0  \n",
       "3                    1.0           40.000000      1.0  \n",
       "4                    1.0           44.000000      1.0  "
      ]
     },
     "execution_count": 7,
     "metadata": {},
     "output_type": "execute_result"
    }
   ],
   "source": [
    "horse = pd.read_csv('horse_data.csv',sep=',',na_values='?',names=['surgery','Age','Hospital_Number','rectal_temperature','pulse','respiratory_rate',' temperature_of_extremities','peripheral_pulse','mucous_membranes','capillary_refill_time','pain','peristalsis','abdominal_distension','nasogastric_tube','nasogastric_reflux','nasogastric_reflux_PH','rectal_examination-feces','abdomen','packed_cell_volume','total_protein','abdominocentesis_appearance','abdomcentesis_total_protein','outcome','surgical_lesion','type_of_lesion1','type_of_lesion2','type_of_lesion3','cp_data'])\n",
    "\n",
    "horse_stat = horse[['surgery','Age','Hospital_Number','rectal_temperature','pulse','capillary_refill_time','packed_cell_volume','outcome']]\n",
    "# заполняем модой capillary_refill_time при 'outcome' == 1.0\n",
    "horse1 = horse_stat[horse_stat['outcome'] == 1.0]\n",
    "horse1_1 = horse1\n",
    "horse1.capillary_refill_time.fillna(horse1_1.capillary_refill_time.mode()[0], inplace=True)\n",
    "# заполняем модой capillary_refill_time при 'outcome' == 2.0 и сливаем таблицу с предыдущей\n",
    "horse2 = horse_stat[horse_stat['outcome'] == 2.0]\n",
    "horse2_1 = horse2\n",
    "horse2.capillary_refill_time.fillna(horse2_1.capillary_refill_time.mode()[0], inplace=True)\n",
    "horse1_2 = pd.concat([horse1,horse2], ignore_index=True)\n",
    "# заполняем модой capillary_refill_time при 'outcome' == 3.0 и сливаем таблицу с предыдущей\n",
    "horse3 = horse_stat[horse_stat['outcome'] == 3.0]\n",
    "horse3_1 = horse3\n",
    "horse3.capillary_refill_time.fillna(horse3_1.capillary_refill_time.mode()[0], inplace=True)\n",
    "horse_stat = pd.concat([horse1_2,horse3], ignore_index=True)\n",
    "\n",
    "horse_stat = horse_stat.dropna(axis='index', how='any', subset=['surgery'])\n",
    "horse_stat = horse_stat.dropna(axis='index', how='any', subset=['outcome'])\n",
    "#оказалось, что оба неопределенных значения находятся в одной строке\n",
    "horse_st = horse_stat\n",
    "horse_st.pulse.fillna(horse_stat.groupby('outcome').pulse.transform('mean'), inplace=True)\n",
    "horse_st.packed_cell_volume.fillna(horse_stat.groupby('outcome').packed_cell_volume.transform('mean'), inplace=True)\n",
    "horse_st.rectal_temperature.fillna(horse_stat.groupby('outcome').rectal_temperature.transform('mean'), inplace=True)\n",
    "horse_st.head()"
   ]
  },
  {
   "cell_type": "code",
   "execution_count": 16,
   "metadata": {},
   "outputs": [
    {
     "data": {
      "image/png": "[encoded data removed]",
      "text/plain": [
       "<Figure size 432x288 with 1 Axes>"
      ]
     },
     "metadata": {},
     "output_type": "display_data"
    }
   ],
   "source": [
    "horse_outcome = horse_st.outcome.value_counts()\n",
    "horse_outcome \n",
    "ax = horse_outcome.plot(kind='pie')"
   ]
  },
  {
   "cell_type": "code",
   "execution_count": null,
   "metadata": {},
   "outputs": [],
   "source": [
    "Из диаграммы видно, что выживших лошадей больше чем суммарно умерших и усыпленных"
   ]
  },
  {
   "cell_type": "code",
   "execution_count": 62,
   "metadata": {},
   "outputs": [
    {
     "data": {
      "image/png": "[encoded data removed]",
      "text/plain": [
       "<Figure size 432x288 with 1 Axes>"
      ]
     },
     "metadata": {
      "needs_background": "light"
     },
     "output_type": "display_data"
    }
   ],
   "source": [
    "pulse_outcome = horse_st.groupby('outcome').mean()\n",
    "pulse_outcome = pulse_outcome[[ 'pulse']]\n",
    "pulse_outcome.plot( kind='bar', \n",
    "                    title='Correlation between outcome and pulse')\n",
    "plt.show()"
   ]
  },
  {
   "cell_type": "code",
   "execution_count": null,
   "metadata": {},
   "outputs": [],
   "source": [
    "Можно выдвинуть гипотезу, что выживали лошади у которых пульс учащался не очень сильно"
   ]
  },
  {
   "cell_type": "code",
   "execution_count": 69,
   "metadata": {},
   "outputs": [
    {
     "data": {
      "text/html": [
       "<div>\n",
       "<style scoped>\n",
       "    .dataframe tbody tr th:only-of-type {\n",
       "        vertical-align: middle;\n",
       "    }\n",
       "\n",
       "    .dataframe tbody tr th {\n",
       "        vertical-align: top;\n",
       "    }\n",
       "\n",
       "    .dataframe thead th {\n",
       "        text-align: right;\n",
       "    }\n",
       "</style>\n",
       "<table border=\"1\" class=\"dataframe\">\n",
       "  <thead>\n",
       "    <tr style=\"text-align: right;\">\n",
       "      <th></th>\n",
       "      <th>outcome</th>\n",
       "      <th>pulse</th>\n",
       "    </tr>\n",
       "  </thead>\n",
       "  <tbody>\n",
       "    <tr>\n",
       "      <th>outcome</th>\n",
       "      <td>1.000000</td>\n",
       "      <td>0.327069</td>\n",
       "    </tr>\n",
       "    <tr>\n",
       "      <th>pulse</th>\n",
       "      <td>0.327069</td>\n",
       "      <td>1.000000</td>\n",
       "    </tr>\n",
       "  </tbody>\n",
       "</table>\n",
       "</div>"
      ],
      "text/plain": [
       "          outcome     pulse\n",
       "outcome  1.000000  0.327069\n",
       "pulse    0.327069  1.000000"
      ]
     },
     "execution_count": 69,
     "metadata": {},
     "output_type": "execute_result"
    }
   ],
   "source": [
    "pulse_outcome =horse_st[[ 'outcome','pulse']]\n",
    "pulse_outcome.corr()"
   ]
  },
  {
   "cell_type": "code",
   "execution_count": null,
   "metadata": {},
   "outputs": [],
   "source": [
    "Но как показывает корреляция, зависимость между этими велечинами небольшая"
   ]
  },
  {
   "cell_type": "code",
   "execution_count": 61,
   "metadata": {},
   "outputs": [
    {
     "data": {
      "image/png": "[encoded data removed]",
      "text/plain": [
       "<Figure size 432x288 with 1 Axes>"
      ]
     },
     "metadata": {
      "needs_background": "light"
     },
     "output_type": "display_data"
    }
   ],
   "source": [
    "\n",
    "horse_st.plot(kind='scatter', \n",
    "        x='packed_cell_volume', \n",
    "        y='pulse', \n",
    "        title='Correlation between packed_cell_volume and pulse')\n",
    "plt.show()"
   ]
  },
  {
   "cell_type": "code",
   "execution_count": null,
   "metadata": {},
   "outputs": [],
   "source": [
    "Можно выдвинуть гипотезу, что при нормальном packed_cell_volume(от 30 до 50) пульс повышался не сильно"
   ]
  },
  {
   "cell_type": "code",
   "execution_count": 70,
   "metadata": {},
   "outputs": [
    {
     "data": {
      "text/html": [
       "<div>\n",
       "<style scoped>\n",
       "    .dataframe tbody tr th:only-of-type {\n",
       "        vertical-align: middle;\n",
       "    }\n",
       "\n",
       "    .dataframe tbody tr th {\n",
       "        vertical-align: top;\n",
       "    }\n",
       "\n",
       "    .dataframe thead th {\n",
       "        text-align: right;\n",
       "    }\n",
       "</style>\n",
       "<table border=\"1\" class=\"dataframe\">\n",
       "  <thead>\n",
       "    <tr style=\"text-align: right;\">\n",
       "      <th></th>\n",
       "      <th>packed_cell_volume</th>\n",
       "      <th>pulse</th>\n",
       "    </tr>\n",
       "  </thead>\n",
       "  <tbody>\n",
       "    <tr>\n",
       "      <th>packed_cell_volume</th>\n",
       "      <td>1.000000</td>\n",
       "      <td>0.389848</td>\n",
       "    </tr>\n",
       "    <tr>\n",
       "      <th>pulse</th>\n",
       "      <td>0.389848</td>\n",
       "      <td>1.000000</td>\n",
       "    </tr>\n",
       "  </tbody>\n",
       "</table>\n",
       "</div>"
      ],
      "text/plain": [
       "                    packed_cell_volume     pulse\n",
       "packed_cell_volume            1.000000  0.389848\n",
       "pulse                         0.389848  1.000000"
      ]
     },
     "execution_count": 70,
     "metadata": {},
     "output_type": "execute_result"
    }
   ],
   "source": [
    "puls_packed =horse_st[[ 'packed_cell_volume','pulse']]\n",
    "puls_packed.corr()"
   ]
  },
  {
   "cell_type": "code",
   "execution_count": null,
   "metadata": {},
   "outputs": [],
   "source": [
    "Но как показывает корреляция, зависимость между этими велечинами небольшая"
   ]
  },
  {
   "cell_type": "code",
   "execution_count": 71,
   "metadata": {},
   "outputs": [
    {
     "data": {
      "text/plain": [
       "<matplotlib.axes._subplots.AxesSubplot at 0x2352e013760>"
      ]
     },
     "execution_count": 71,
     "metadata": {},
     "output_type": "execute_result"
    },
    {
     "data": {
      "image/png": "[encoded data removed]",
      "text/plain": [
       "<Figure size 432x288 with 1 Axes>"
      ]
     },
     "metadata": {
      "needs_background": "light"
     },
     "output_type": "display_data"
    }
   ],
   "source": [
    "horse_st.pulse.plot(kind='box',\n",
    "                   title='pulse')"
   ]
  },
  {
   "cell_type": "code",
   "execution_count": null,
   "metadata": {},
   "outputs": [],
   "source": [
    "Из бокссплота видно, что у половины лошадей пульс находился в пределах от тридцати до шестидесяти \n",
    "с небольшим ударов/мин, у второй половины от шестидесяти с небольшим  до ста пядитесяти ударов/мин.\n",
    "Есть 4 выброса превышающие 150 уд/мин"
   ]
  }
 ],
 "metadata": {
  "kernelspec": {
   "display_name": "Python 3",
   "language": "python",
   "name": "python3"
  },
  "language_info": {
   "codemirror_mode": {
    "name": "ipython",
    "version": 3
   },
   "file_extension": ".py",
   "mimetype": "text/x-python",
   "name": "python",
   "nbconvert_exporter": "python",
   "pygments_lexer": "ipython3",
   "version": "3.8.3"
  }
 },
 "nbformat": 4,
 "nbformat_minor": 4
}
