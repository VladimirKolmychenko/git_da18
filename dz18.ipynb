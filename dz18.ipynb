{
 "cells": [
  {
   "cell_type": "code",
   "execution_count": 1,
   "metadata": {},
   "outputs": [
    {
     "name": "stdout",
     "output_type": "stream",
     "text": [
      "Проигрыш  202981 рублей\n"
     ]
    }
   ],
   "source": [
    "import numpy as np\n",
    "\n",
    "payment = 1000000   # платеж\n",
    "win = 0    # выигрыш\n",
    "\n",
    "for i in range(payment):\n",
    "    random_score = np.random.randint(0,1000 )    # Случайное количество очков от 0 до 999\n",
    "    if random_score == 777:\n",
    "        win += 200\n",
    "    elif random_score == 999:\n",
    "        win += 100\n",
    "    elif random_score == 555:\n",
    "        win += 50\n",
    "    elif random_score == 333:\n",
    "        win += 15\n",
    "    elif random_score == 111:\n",
    "        win += 10\n",
    "    elif  (random_score % 100 == 77):\n",
    "        win += 5        \n",
    "    elif (random_score % 10 == 7) :\n",
    "        win += 3\n",
    "    elif (random_score % 100 == 0):\n",
    "        win += 2       \n",
    "    elif (random_score % 10 == 0):\n",
    "        win += 1\n",
    "        \n",
    "print('Проигрыш ',payment - win, 'рублей')"
   ]
  },
  {
   "cell_type": "code",
   "execution_count": null,
   "metadata": {},
   "outputs": [],
   "source": [
    "Теоретически проигрыш 1-375/1000-5*9/1000 - 3*9/100- - 2/100 - 1/10 = 0,19руб. на каждый вложенный рубль. \n",
    "В моделировании получилось 0,20"
   ]
  }
 ],
 "metadata": {
  "kernelspec": {
   "display_name": "Python 3",
   "language": "python",
   "name": "python3"
  },
  "language_info": {
   "codemirror_mode": {
    "name": "ipython",
    "version": 3
   },
   "file_extension": ".py",
   "mimetype": "text/x-python",
   "name": "python",
   "nbconvert_exporter": "python",
   "pygments_lexer": "ipython3",
   "version": "3.8.3"
  }
 },
 "nbformat": 4,
 "nbformat_minor": 4
}
