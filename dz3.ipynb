{
 "cells": [
  {
   "cell_type": "code",
   "execution_count": 11,
   "metadata": {},
   "outputs": [
    {
     "name": "stdout",
     "output_type": "stream",
     "text": [
      "t\n"
     ]
    }
   ],
   "source": [
    "my_str='testing'\n",
    "l=len(my_str)\n",
    "if l%2==0:\n",
    "    print(my_str[l//2-1:l//2+1]) \n",
    "else:\n",
    "    print(my_str[l//2]) "
   ]
  },
  {
   "cell_type": "code",
   "execution_count": 13,
   "metadata": {},
   "outputs": [
    {
     "name": "stdout",
     "output_type": "stream",
     "text": [
      "Введите число 1\n",
      "Введите число 4\n",
      "Введите число 6\n",
      "Введите число 0\n",
      "11\n"
     ]
    }
   ],
   "source": [
    "s=0\n",
    "i=int(input('Введите число '))\n",
    "while i!=0:\n",
    " s=s+i\n",
    " i=int(input('Введите число ')) \n",
    "print(s)"
   ]
  },
  {
   "cell_type": "code",
   "execution_count": 21,
   "metadata": {},
   "outputs": [
    {
     "name": "stdout",
     "output_type": "stream",
     "text": [
      "Идеальные пары:\n",
      "Alex и Emma\n",
      "Arthur и Kate\n",
      "John и Kira\n",
      "Peter и Lisa\n",
      "Richard и Trisha\n"
     ]
    }
   ],
   "source": [
    "boys=['Peter','Alex','John','Arthur','Richard']\n",
    "girls=['Kate','Lisa','Kira','Emma','Trisha']\n",
    "if len(boys)!=len(girls):\n",
    "    print('Внимание, кто-то может остаться без пары')\n",
    "else:\n",
    "    boys=sorted(boys)\n",
    "    girls=sorted(girls)\n",
    "    pare=zip(boys,girls)\n",
    "    print('Идеальные пары:')\n",
    "    for i in pare:\n",
    "        print(i[0]+' и '+i[1])"
   ]
  },
  {
   "cell_type": "code",
   "execution_count": 28,
   "metadata": {},
   "outputs": [
    {
     "name": "stdout",
     "output_type": "stream",
     "text": [
      "Средняя температура в странах:\n",
      "Thailand - 23.9 C\n",
      "Germany - 13.8 C\n",
      "Russia - 3.7 C\n",
      "Poland - 12.0 C\n"
     ]
    }
   ],
   "source": [
    "countries_temperature = [\n",
    "['Thailand', [75.2, 77, 78.8, 73.4, 68, 75.2, 77]],\n",
    "['Germany', [57.2, 55.4, 59, 59, 53.6]],\n",
    "['Russia', [35.6, 37.4, 39.2, 41, 42.8, 39.2, 35.6]],\n",
    "['Poland', [50, 50, 53.6, 57.2, 55.4, 55.4]]\n",
    "]\n",
    "print('Средняя температура в странах:')\n",
    "for i in countries_temperature:\n",
    "    t=(sum(i[1])/len(i[1])-32.0)*5/9\n",
    "    t=round(t,1)\n",
    "    print(i[0]+' - '+str(t)+' C')"
   ]
  }
 ],
 "metadata": {
  "kernelspec": {
   "display_name": "Python 3",
   "language": "python",
   "name": "python3"
  },
  "language_info": {
   "codemirror_mode": {
    "name": "ipython",
    "version": 3
   },
   "file_extension": ".py",
   "mimetype": "text/x-python",
   "name": "python",
   "nbconvert_exporter": "python",
   "pygments_lexer": "ipython3",
   "version": "3.8.3"
  }
 },
 "nbformat": 4,
 "nbformat_minor": 4
}
