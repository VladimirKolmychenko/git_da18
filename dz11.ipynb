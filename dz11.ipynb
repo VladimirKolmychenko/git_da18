{
 "cells": [
  {
   "cell_type": "code",
   "execution_count": 7,
   "metadata": {},
   "outputs": [
    {
     "data": {
      "text/plain": [
       "318    153\n",
       "Name: movieId, dtype: int64"
      ]
     },
     "execution_count": 7,
     "metadata": {},
     "output_type": "execute_result"
    }
   ],
   "source": [
    "import pandas as pd\n",
    "data = pd.read_csv('ratings.csv')\n",
    "data.head(10)\n",
    "data = data[ data.rating == 5.0 ]\n",
    "data['movieId'].value_counts().head(1)"
   ]
  },
  {
   "cell_type": "code",
   "execution_count": 16,
   "metadata": {},
   "outputs": [
    {
     "data": {
      "text/plain": [
       "240580.0"
      ]
     },
     "execution_count": 16,
     "metadata": {},
     "output_type": "execute_result"
    }
   ],
   "source": [
    "data = pd.read_csv('power.csv')\n",
    "data = data[data.quantity > 0 ] \n",
    "data = data[ (data['country'] == 'Lithuania') | (data['country'] == 'Latvia') | (data['country'] == 'Estonia') ]\n",
    "data = data[ (data['category'] == 4) | (data['category'] == 12) | (data['category'] == 21) ]\n",
    "data = data[ (data['year'] >= 2005) & (data['year'] <= 2010)  ]\n",
    "data['quantity'].sum()"
   ]
  },
  {
   "cell_type": "code",
   "execution_count": 27,
   "metadata": {},
   "outputs": [
    {
     "data": {
      "text/plain": [
       "[     0       1      2        3       4     5        6       7      8   \\\n",
       " 0  ММВБ   2 896   1,2%   Nasdaq  11 895  0,0%  Биткойн  14 983   1,1%   \n",
       " 1   РТС   1 178   0,6%   S&P500   3 509  0,0%    Нефть     396  -2,9%   \n",
       " 2   Dow  28 323  -0,2%  FTSE100   5 910  0,1%   Золото   1 951   0,1%   \n",
       " \n",
       "         9       10    11  \n",
       " 0  USD/RUB  776095  1,1%  \n",
       " 1  EUR/RUB  919550  0,0%  \n",
       " 2  EUR/USD   11870  0,4%  ,\n",
       "     Unnamed: 0              Рубль  Предложение  Спрос  Предыдущее закрытие  \\\n",
       " 0          NaN            GBP/RUB      1020958      -              1018459   \n",
       " 1          NaN            EUR/RUB       919550      -               919540   \n",
       " 2          NaN            USD/RUB       776095      -               767710   \n",
       " 3          NaN            JPY/RUB        07509      -                07491   \n",
       " 4          NaN            CNY/RUB       117388      -               117119   \n",
       " 5          NaN            CHF/RUB       862388      -               859875   \n",
       " 6          NaN               Евро  Предложение  Спрос  Предыдущее закрытие   \n",
       " 7          NaN            EUR/USD        11870      -                11826   \n",
       " 8          NaN            EUR/GBP        09038      -                09038   \n",
       " 9          NaN            EUR/JPY      1227450      -              1227300   \n",
       " 10         NaN            EUR/CHF        10692      -                10699   \n",
       " 11         NaN         Доллар США  Предложение  Спрос  Предыдущее закрытие   \n",
       " 12         NaN            USD/EUR        08425      -                08421   \n",
       " 13         NaN            USD/GBP        07602      -                07603   \n",
       " 14         NaN            USD/JPY      1033550      -              1033450   \n",
       " 15         NaN            USD/CHF        08999      -                09001   \n",
       " 16         NaN      Японская иена  Предложение  Спрос  Предыдущее закрытие   \n",
       " 17         NaN    JPY/EUR (100:1)        08200      -                08100   \n",
       " 18         NaN            JPY/GBP        00074      -                00074   \n",
       " 19         NaN            JPY/USD        00097      -                00097   \n",
       " 20         NaN    JPY/CHF (100:1)        08700      -                08700   \n",
       " 21         NaN    Фунт стерлингов  Предложение  Спрос  Предыдущее закрытие   \n",
       " 22         NaN            GBP/USD        13155      -                13155   \n",
       " 23         NaN            GBP/JPY      1359635      -              1359547   \n",
       " 24         NaN            GBP/EUR        11075      -                11117   \n",
       " 25         NaN            GBP/CHF        11832      -                11896   \n",
       " 26         NaN  Швейцарский франк  Предложение  Спрос  Предыдущее закрытие   \n",
       " 27         NaN            GBP/CHF        11832      -                11896   \n",
       " 28         NaN            EUR/CHF        10692      -                10699   \n",
       " 29         NaN    JPY/CHF (100:1)        08700      -                08700   \n",
       " 30         NaN            USD/CHF        08999      -                09001   \n",
       " 31         NaN  Украинская гривна  Предложение  Спрос  Предыдущее закрытие   \n",
       " 32         NaN            EUR/UAH       335330      -               334327   \n",
       " 33         NaN            USD/UAH       282500      -               281550   \n",
       " 34         NaN            CHF/UAH       313912      -               312660   \n",
       " 35         NaN            GBP/UAH       371632      -               370323   \n",
       " \n",
       "           %  Абсолютное значение       Время  \n",
       " 0    0,25 %                02499  07.11.2020  \n",
       " 1    0,00 %                00010  07.11.2020  \n",
       " 2    1,09 %                08385  07.11.2020  \n",
       " 3    0,24 %                00018  07.11.2020  \n",
       " 4    0,23 %                00270  07.11.2020  \n",
       " 5    0,29 %                02513  07.11.2020  \n",
       " 6         %  Абсолютное значение       Время  \n",
       " 7    0,38 %                00045  07.11.2020  \n",
       " 8    0,00 %                00000  07.11.2020  \n",
       " 9    0,01 %                00150  07.11.2020  \n",
       " 10  -0,07 %               -00007  07.11.2020  \n",
       " 11        %  Абсолютное значение       Время  \n",
       " 12   0,04 %                00003  07.11.2020  \n",
       " 13  -0,02 %               -00001  07.11.2020  \n",
       " 14   0,01 %                00100  07.11.2020  \n",
       " 15  -0,02 %               -00002  07.11.2020  \n",
       " 16        %  Абсолютное значение       Время  \n",
       " 17   0,05 %                00000  07.11.2020  \n",
       " 18  -0,01 %                00000  07.11.2020  \n",
       " 19   0,01 %                00000  07.11.2020  \n",
       " 20  -0,37 %                00000  07.11.2020  \n",
       " 21        %  Абсолютное значение       Время  \n",
       " 22   0,00 %                00000  07.11.2020  \n",
       " 23   0,01 %                00089  07.11.2020  \n",
       " 24  -0,38 %               -00043  07.11.2020  \n",
       " 25  -0,54 %               -00065  07.11.2020  \n",
       " 26        %  Абсолютное значение       Время  \n",
       " 27  -0,54 %               -00065  07.11.2020  \n",
       " 28  -0,07 %               -00007  07.11.2020  \n",
       " 29  -0,37 %                00000  07.11.2020  \n",
       " 30  -0,02 %               -00002  07.11.2020  \n",
       " 31        %  Абсолютное значение       Время  \n",
       " 32   0,30 %                01003  07.11.2020  \n",
       " 33   0,34 %                00950  07.11.2020  \n",
       " 34   0,40 %                01252  07.11.2020  \n",
       " 35   0,35 %                01309  07.11.2020  ]"
      ]
     },
     "execution_count": 27,
     "metadata": {},
     "output_type": "execute_result"
    }
   ],
   "source": [
    "page_url = 'https://www.finanz.ru/valyuty/v-realnom-vremeni'\n",
    "df = pd.read_html(page_url,  encoding='utf-8')\n",
    "df[0:2]"
   ]
  }
 ],
 "metadata": {
  "kernelspec": {
   "display_name": "Python 3",
   "language": "python",
   "name": "python3"
  },
  "language_info": {
   "codemirror_mode": {
    "name": "ipython",
    "version": 3
   },
   "file_extension": ".py",
   "mimetype": "text/x-python",
   "name": "python",
   "nbconvert_exporter": "python",
   "pygments_lexer": "ipython3",
   "version": "3.8.3"
  }
 },
 "nbformat": 4,
 "nbformat_minor": 4
}
